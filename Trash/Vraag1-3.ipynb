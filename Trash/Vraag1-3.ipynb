{
 "cells": [
  {
   "cell_type": "code",
   "execution_count": 90,
   "metadata": {},
   "outputs": [],
   "source": [
    "from RNN import load_imdb\n",
    "import torch\n",
    "from torch.nn.utils.rnn import pad_sequence\n",
    "import torch.nn as nn\n",
    "import torch.optim as optim\n",
    "import torch.nn.functional as F\n",
    "from torch.utils.data import Dataset, DataLoader"
   ]
  },
  {
   "cell_type": "code",
   "execution_count": 2,
   "metadata": {},
   "outputs": [],
   "source": [
    "(x_train, y_train), (x_val, y_val), (i2w, w2i), numcls = load_imdb(final=False)"
   ]
  },
  {
   "cell_type": "markdown",
   "metadata": {},
   "source": [
    "Vraag 1"
   ]
  },
  {
   "cell_type": "code",
   "execution_count": 3,
   "metadata": {},
   "outputs": [],
   "source": [
    "def pad_and_convert_to_tensor(batch_sequences, batch_labels, w2i):\n",
    "    # Pad sequences to the maximum length\n",
    "    padded_sequences = pad_sequence([torch.tensor(seq, dtype=torch.long) for seq in batch_sequences], batch_first=True, padding_value=0)\n",
    "    labels_tensor = torch.tensor(batch_labels, dtype=torch.float32)\n",
    "    return padded_sequences, labels_tensor\n",
    "\n",
    "#Define batch_size\n",
    "batch_size = 32 \n",
    "all_padded_batches_x = []\n",
    "all_tensor_batches_y = []\n",
    "\n",
    "#Select batches of sentences in the trainset\n",
    "#Define the length of the longest sentence in that batch\n",
    "#Add zero's to all sentences to reach the same length of the longest sentence\n",
    "#In the end all_padded_batches_x contains 625 batches of size 32. In total 20000 sentences.\n",
    "for i in range(0, 500, batch_size):\n",
    "    batch_x = x_train[i:i+batch_size]\n",
    "    batch_y = y_train[i:i+batch_size]\n",
    "    \n",
    "    padded_batch_x, tensor_batch_y = pad_and_convert_to_tensor(batch_x, batch_y, w2i)\n",
    "    all_padded_batches_x.append(padded_batch_x)\n",
    "    all_tensor_batches_y.append(tensor_batch_y)\n",
    "\n",
    "#print(len(all_padded_batches_x[200][1]))"
   ]
  },
  {
   "cell_type": "markdown",
   "metadata": {},
   "source": [
    "Vraag 2"
   ]
  },
  {
   "cell_type": "code",
   "execution_count": 6,
   "metadata": {},
   "outputs": [
    {
     "name": "stdout",
     "output_type": "stream",
     "text": [
      "torch.Size([16, 32, 2])\n"
     ]
    }
   ],
   "source": [
    "##WITHOUT LOSS\n",
    "def simple_seq2seq_model(vocab_size, emb_dim, hidden_dim, num_classes, input_batches):\n",
    "    # 1) Embedding layer\n",
    "    embedding = nn.Embedding(vocab_size, emb_dim)\n",
    "\n",
    "    # List to store outputs for each batch\n",
    "    outputs = []\n",
    "\n",
    "    for input_tensor in input_batches:\n",
    "        embedded = embedding(input_tensor)\n",
    "\n",
    "        # 2) Linear layer applied to each token\n",
    "        linear1 = nn.Linear(emb_dim, hidden_dim)\n",
    "        linear_output = linear1(embedded)\n",
    "\n",
    "        # 3) ReLU activation\n",
    "        relu = nn.ReLU()\n",
    "        relu_output = relu(linear_output)\n",
    "\n",
    "        # 4) Global max pool along the time dimension\n",
    "        global_max_pool = nn.AdaptiveMaxPool1d(1)\n",
    "        pooled_output = global_max_pool(relu_output.permute(0, 2, 1))\n",
    "\n",
    "        # 5) Linear layer\n",
    "        linear2 = nn.Linear(hidden_dim, num_classes)\n",
    "        linear_output_final = linear2(pooled_output.squeeze(dim=2))\n",
    "\n",
    "        outputs.append(linear_output_final)\n",
    "\n",
    "    # Stack outputs into a single tensor\n",
    "    outputs_tensor = torch.stack(outputs)\n",
    "\n",
    "    return outputs_tensor\n",
    "\n",
    "# Example usage\n",
    "vocab_size = len(w2i)\n",
    "emb_dim = 300       \n",
    "hidden_dim = 300   \n",
    "num_classes = 2  # because binary classification\n",
    "\n",
    "# Forward pass for all batches\n",
    "all_outputs = simple_seq2seq_model(vocab_size, emb_dim, hidden_dim, num_classes, all_padded_batches_x)\n",
    "\n",
    "# Print the overall output shape\n",
    "print(all_outputs.shape)\n",
    "\n"
   ]
  },
  {
   "cell_type": "markdown",
   "metadata": {},
   "source": [
    "Vraag 3"
   ]
  },
  {
   "cell_type": "code",
   "execution_count": 67,
   "metadata": {},
   "outputs": [],
   "source": [
    "class SimpleSeq2SeqModel(nn.Module):\n",
    "    def __init__(self, vocab_size, emb_dim, hidden_dim, num_classes):\n",
    "        super(SimpleSeq2SeqModel, self).__init__()\n",
    "\n",
    "        # 1) Embedding layer\n",
    "        self.embedding = nn.Embedding(vocab_size, emb_dim)\n",
    "\n",
    "        # 2) Linear layer applied to each token\n",
    "        self.linear1 = nn.Linear(emb_dim, hidden_dim)\n",
    "\n",
    "        # 3) ReLU activation\n",
    "        self.relu = nn.ReLU()\n",
    "\n",
    "        # 4) Global max pool along the time dimension\n",
    "        self.global_max_pool = nn.AdaptiveMaxPool1d(1)\n",
    "\n",
    "        # 5) Linear layer\n",
    "        self.linear2 = nn.Linear(hidden_dim, num_classes)\n",
    "\n",
    "    def forward(self, x):\n",
    "        # Input x: (batch, time)\n",
    "\n",
    "        # 1) Embedding layer\n",
    "        embedded = self.embedding(x)\n",
    "\n",
    "        # 2) Linear layer applied to each token\n",
    "        linear_output = self.linear1(embedded)\n",
    "\n",
    "        # 3) ReLU activation\n",
    "        relu_output = self.relu(linear_output)\n",
    "\n",
    "        # 4) Global max pool along the time dimension\n",
    "        pooled_output = self.global_max_pool(relu_output.permute(0, 2, 1))\n",
    "\n",
    "        # 5) Linear layer\n",
    "        linear_output_final = self.linear2(pooled_output.squeeze(dim=2))\n",
    "\n",
    "        return linear_output_final"
   ]
  },
  {
   "cell_type": "code",
   "execution_count": 88,
   "metadata": {},
   "outputs": [
    {
     "name": "stdout",
     "output_type": "stream",
     "text": [
      "Epoch [1/10], Loss: 0.6978, Accuracy: 0.5625\n",
      "Epoch [2/10], Loss: 0.6798, Accuracy: 0.5762\n",
      "Epoch [3/10], Loss: 0.6603, Accuracy: 0.6016\n",
      "Epoch [4/10], Loss: 0.6405, Accuracy: 0.6191\n",
      "Epoch [5/10], Loss: 0.6199, Accuracy: 0.6582\n",
      "Epoch [6/10], Loss: 0.5980, Accuracy: 0.6934\n",
      "Epoch [7/10], Loss: 0.5750, Accuracy: 0.7305\n",
      "Epoch [8/10], Loss: 0.5515, Accuracy: 0.7422\n",
      "Epoch [9/10], Loss: 0.5285, Accuracy: 0.7676\n",
      "Epoch [10/10], Loss: 0.5066, Accuracy: 0.7812\n"
     ]
    }
   ],
   "source": [
    "# Define your hyperparameters\n",
    "vocab_size = len(w2i)\n",
    "emb_dim = 300\n",
    "hidden_dim = 300\n",
    "num_classes = 1\n",
    "learning_rate = 0.001\n",
    "num_epochs = 10\n",
    "\n",
    "model = SimpleSeq2SeqModel(vocab_size, emb_dim, hidden_dim, num_classes)\n",
    "\n",
    "# Define the loss function and optimizer\n",
    "criterion = nn.BCEWithLogitsLoss()\n",
    "optimizer = optim.SGD(model.parameters(), lr=0.01)\n",
    "\n",
    "# Training loop\n",
    "for epoch in range(num_epochs):\n",
    "    total_loss = 0.0\n",
    "    correct_predictions = 0\n",
    "    total_samples = 0\n",
    "\n",
    "    for input_batch, target_batch in zip(all_padded_batches_x, all_tensor_batches_y):\n",
    "        # Zero the gradients\n",
    "        optimizer.zero_grad()\n",
    "\n",
    "        # Forward pass\n",
    "        output = model(input_batch)\n",
    "\n",
    "        # Ensure target tensor has the same shape as the output tensor\n",
    "        target_batch = target_batch.view_as(output)\n",
    "\n",
    "        # Compute the loss\n",
    "        loss = criterion(output, target_batch)\n",
    "\n",
    "        # Backward pass\n",
    "        loss.backward()\n",
    "\n",
    "        # Update the parameters\n",
    "        optimizer.step()\n",
    "\n",
    "        # Accumulate the total loss for the epoch\n",
    "        total_loss += loss.item()\n",
    "\n",
    "        # Calculate accuracy\n",
    "        predictions = torch.round(torch.sigmoid(output))  # Assuming sigmoid activation for binary classification\n",
    "        correct_predictions += (predictions == target_batch).sum().item()\n",
    "        total_samples += target_batch.size(0)\n",
    "\n",
    "    # Calculate accuracy for the epoch\n",
    "    accuracy = correct_predictions / total_samples\n",
    "\n",
    "    # Print the average loss and accuracy for the epoch\n",
    "    avg_loss = total_loss / len(all_padded_batches_x)\n",
    "    print(f'Epoch [{epoch+1}/{num_epochs}], Loss: {avg_loss:.4f}, Accuracy: {accuracy:.4f}')"
   ]
  },
  {
   "cell_type": "code",
   "execution_count": 100,
   "metadata": {},
   "outputs": [
    {
     "name": "stderr",
     "output_type": "stream",
     "text": [
      "100%|██████████| 625/625 [03:02<00:00,  3.42it/s]\n"
     ]
    },
    {
     "name": "stdout",
     "output_type": "stream",
     "text": [
      "Epoch [1/5], Loss: 0.3483\n"
     ]
    },
    {
     "name": "stderr",
     "output_type": "stream",
     "text": [
      "100%|██████████| 625/625 [03:49<00:00,  2.73it/s]\n"
     ]
    },
    {
     "name": "stdout",
     "output_type": "stream",
     "text": [
      "Epoch [2/5], Loss: 0.2184\n"
     ]
    },
    {
     "name": "stderr",
     "output_type": "stream",
     "text": [
      "100%|██████████| 625/625 [04:18<00:00,  2.42it/s]\n"
     ]
    },
    {
     "name": "stdout",
     "output_type": "stream",
     "text": [
      "Epoch [3/5], Loss: 0.1433\n"
     ]
    },
    {
     "name": "stderr",
     "output_type": "stream",
     "text": [
      " 12%|█▏        | 73/625 [00:27<03:49,  2.40it/s]"
     ]
    }
   ],
   "source": [
    "from RNN import load_imdb\n",
    "from padconvertion import get_batches\n",
    "\n",
    "import torch\n",
    "import torch.nn as nn\n",
    "\n",
    "import torch.nn.functional as F\n",
    "import torch.optim as optim\n",
    "from tqdm import tqdm\n",
    "\n",
    "device = torch.device('cpu')\n",
    "\n",
    "(x_train, y_train), (x_val, y_val), (i2w, w2i), numcls = load_imdb(final=False)\n",
    "\n",
    "x_train, y_train = get_batches(x_train, y_train, batch_size=32)\n",
    "\n",
    "class SimpleSeq2SeqModel(nn.Module):\n",
    "    def __init__(self, vocab_size, emb_dim, hidden_dim, num_classes):\n",
    "        super(SimpleSeq2SeqModel, self).__init__()\n",
    "\n",
    "        # 1) Embedding layer\n",
    "        self.embedding = nn.Embedding(vocab_size, emb_dim)\n",
    "\n",
    "        # 2) Linear layer applied to each token\n",
    "        self.linear1 = nn.Linear(emb_dim, hidden_dim)\n",
    "\n",
    "        # 3) ReLU activation\n",
    "        self.relu = nn.ReLU()\n",
    "\n",
    "        # 4) Global max pool along the time dimension\n",
    "        self.global_max_pool = nn.AdaptiveMaxPool1d(1)\n",
    "\n",
    "        # 5) Linear layer\n",
    "        self.linear2 = nn.Linear(hidden_dim, num_classes)\n",
    "\n",
    "    def forward(self, x, hidden):\n",
    "        # Input x: (batch, time)\n",
    "\n",
    "        # 1) Embedding layer\n",
    "        embedded = self.embedding(x)\n",
    "\n",
    "        # 2) Linear layer applied to each token\n",
    "        linear_output = self.linear1(embedded)\n",
    "\n",
    "        # 3) ReLU activation\n",
    "        relu_output = self.relu(linear_output)\n",
    "\n",
    "        # 4) Global max pool along the time dimension\n",
    "        pooled_output = self.global_max_pool(relu_output.permute(0, 2, 1))\n",
    "\n",
    "        # 5) Linear layer\n",
    "        linear_output_final = self.linear2(pooled_output.squeeze(dim=2))\n",
    "\n",
    "        return linear_output_final\n",
    "\n",
    "learning_rate = 0.001\n",
    "num_epochs = 5\n",
    "vocab_size = len(w2i)\n",
    "emb_dim = 300\n",
    "hidden_dim = 300\n",
    "\n",
    "model = SimpleSeq2SeqModel(vocab_size, emb_dim, hidden_dim, numcls)\n",
    "model.to(device)\n",
    "\n",
    "optimizer = optim.Adam(model.parameters(), lr=learning_rate)\n",
    "\n",
    "train_dataset = [(x, y) for x, y in zip(x_train, y_train)]\n",
    "\n",
    "# Training loop\n",
    "loss_list = []\n",
    "hidden = None\n",
    "for epoch in range(num_epochs):\n",
    "    total_loss = 0.0\n",
    "    for input_batch, target_batch in tqdm(train_dataset):\n",
    "        input, target = input_batch.to(device), target_batch.to(device).long()\n",
    "\n",
    "        optimizer.zero_grad()\n",
    "\n",
    "        output = model(input, hidden)\n",
    "\n",
    "        loss = F.cross_entropy(output, target)\n",
    "\n",
    "        loss.backward(retain_graph=True)\n",
    "        optimizer.step()\n",
    "\n",
    "        total_loss += loss.item()\n",
    "        loss_list.append(loss.item())\n",
    "        # Print average loss for the epoch\n",
    "    average_loss = total_loss / len(train_dataset)\n",
    "    print(f'Epoch [{epoch+1}/{num_epochs}], Loss: {average_loss:.4f}')"
   ]
  }
 ],
 "metadata": {
  "kernelspec": {
   "display_name": "SIC",
   "language": "python",
   "name": "python3"
  },
  "language_info": {
   "codemirror_mode": {
    "name": "ipython",
    "version": 3
   },
   "file_extension": ".py",
   "mimetype": "text/x-python",
   "name": "python",
   "nbconvert_exporter": "python",
   "pygments_lexer": "ipython3",
   "version": "3.9.18"
  }
 },
 "nbformat": 4,
 "nbformat_minor": 2
}
