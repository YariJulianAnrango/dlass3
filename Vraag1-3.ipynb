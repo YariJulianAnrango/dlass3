{
 "cells": [
  {
   "cell_type": "code",
   "execution_count": 1,
   "metadata": {},
   "outputs": [],
   "source": [
    "from RNN import load_imdb\n",
    "import torch\n",
    "from torch.nn.utils.rnn import pad_sequence\n",
    "import torch.nn as nn\n",
    "import torch.optim as optim\n",
    "import torch.nn.functional as F"
   ]
  },
  {
   "cell_type": "code",
   "execution_count": 2,
   "metadata": {},
   "outputs": [],
   "source": [
    "(x_train, y_train), (x_val, y_val), (i2w, w2i), numcls = load_imdb(final=False)"
   ]
  },
  {
   "cell_type": "markdown",
   "metadata": {},
   "source": [
    "Vraag 1"
   ]
  },
  {
   "cell_type": "code",
   "execution_count": 3,
   "metadata": {},
   "outputs": [],
   "source": [
    "def pad_and_convert_to_tensor(batch_sequences, batch_labels, w2i):\n",
    "    # Pad sequences to the maximum length\n",
    "    padded_sequences = pad_sequence([torch.tensor(seq, dtype=torch.long) for seq in batch_sequences], batch_first=True, padding_value=0)\n",
    "    labels_tensor = torch.tensor(batch_labels, dtype=torch.float32)\n",
    "    return padded_sequences, labels_tensor\n",
    "\n",
    "#Define batch_size\n",
    "batch_size = 32 \n",
    "all_padded_batches_x = []\n",
    "all_tensor_batches_y = []\n",
    "\n",
    "#Select batches of sentences in the trainset\n",
    "#Define the length of the longest sentence in that batch\n",
    "#Add zero's to all sentences to reach the same length of the longest sentence\n",
    "#In the end all_padded_batches_x contains 625 batches of size 32. In total 20000 sentences.\n",
    "for i in range(0, 500, batch_size):\n",
    "    batch_x = x_train[i:i+batch_size]\n",
    "    batch_y = y_train[i:i+batch_size]\n",
    "    \n",
    "    padded_batch_x, tensor_batch_y = pad_and_convert_to_tensor(batch_x, batch_y, w2i)\n",
    "    all_padded_batches_x.append(padded_batch_x)\n",
    "    all_tensor_batches_y.append(tensor_batch_y)\n",
    "\n",
    "#print(len(all_padded_batches_x[200][1]))"
   ]
  },
  {
   "cell_type": "markdown",
   "metadata": {},
   "source": [
    "Vraag 2"
   ]
  },
  {
   "cell_type": "code",
   "execution_count": 4,
   "metadata": {},
   "outputs": [
    {
     "name": "stdout",
     "output_type": "stream",
     "text": [
      "torch.Size([16, 32, 1])\n"
     ]
    }
   ],
   "source": [
    "##WITHOUT LOSS\n",
    "def simple_seq2seq_model(vocab_size, emb_dim, hidden_dim, num_classes, input_batches):\n",
    "    # 1) Embedding layer\n",
    "    embedding = nn.Embedding(vocab_size, emb_dim)\n",
    "\n",
    "    # List to store outputs for each batch\n",
    "    outputs = []\n",
    "\n",
    "    for input_tensor in input_batches:\n",
    "        embedded = embedding(input_tensor)\n",
    "\n",
    "        # 2) Linear layer applied to each token\n",
    "        linear1 = nn.Linear(emb_dim, hidden_dim)\n",
    "        linear_output = linear1(embedded)\n",
    "\n",
    "        # 3) ReLU activation\n",
    "        relu = nn.ReLU()\n",
    "        relu_output = relu(linear_output)\n",
    "\n",
    "        # 4) Global max pool along the time dimension\n",
    "        global_max_pool = nn.AdaptiveMaxPool1d(1)\n",
    "        pooled_output = global_max_pool(relu_output.permute(0, 2, 1))\n",
    "\n",
    "        # 5) Linear layer\n",
    "        linear2 = nn.Linear(hidden_dim, num_classes)\n",
    "        linear_output_final = linear2(pooled_output.squeeze(dim=2))\n",
    "\n",
    "        outputs.append(linear_output_final)\n",
    "\n",
    "    # Stack outputs into a single tensor\n",
    "    outputs_tensor = torch.stack(outputs)\n",
    "\n",
    "    return outputs_tensor\n",
    "\n",
    "# Example usage\n",
    "vocab_size = len(w2i)\n",
    "emb_dim = 300       \n",
    "hidden_dim = 300   \n",
    "num_classes = 1  # because binary classification\n",
    "\n",
    "# Forward pass for all batches\n",
    "all_outputs = simple_seq2seq_model(vocab_size, emb_dim, hidden_dim, num_classes, all_padded_batches_x)\n",
    "\n",
    "# Print the overall output shape\n",
    "print(all_outputs.shape)\n",
    "\n"
   ]
  },
  {
   "cell_type": "code",
   "execution_count": 6,
   "metadata": {},
   "outputs": [
    {
     "ename": "IndexError",
     "evalue": "Dimension out of range (expected to be in range of [-2, 1], but got 2)",
     "output_type": "error",
     "traceback": [
      "\u001b[1;31m---------------------------------------------------------------------------\u001b[0m",
      "\u001b[1;31mIndexError\u001b[0m                                Traceback (most recent call last)",
      "\u001b[1;32mc:\\Users\\irene\\OneDrive\\Bureaublad\\Master_jaar_2\\DL\\Assignment3\\assignment3.ipynb Cell 7\u001b[0m line \u001b[0;36m4\n\u001b[0;32m     <a href='vscode-notebook-cell:/c%3A/Users/irene/OneDrive/Bureaublad/Master_jaar_2/DL/Assignment3/assignment3.ipynb#W6sZmlsZQ%3D%3D?line=44'>45</a>\u001b[0m num_classes \u001b[39m=\u001b[39m \u001b[39m1\u001b[39m  \u001b[39m# because binary classification\u001b[39;00m\n\u001b[0;32m     <a href='vscode-notebook-cell:/c%3A/Users/irene/OneDrive/Bureaublad/Master_jaar_2/DL/Assignment3/assignment3.ipynb#W6sZmlsZQ%3D%3D?line=46'>47</a>\u001b[0m \u001b[39m# Forward pass for all batches\u001b[39;00m\n\u001b[1;32m---> <a href='vscode-notebook-cell:/c%3A/Users/irene/OneDrive/Bureaublad/Master_jaar_2/DL/Assignment3/assignment3.ipynb#W6sZmlsZQ%3D%3D?line=47'>48</a>\u001b[0m all_outputs \u001b[39m=\u001b[39m simple_seq2seq_model(vocab_size, emb_dim, hidden_dim, num_classes, all_padded_batches_x, all_tensor_batches_y)\n\u001b[0;32m     <a href='vscode-notebook-cell:/c%3A/Users/irene/OneDrive/Bureaublad/Master_jaar_2/DL/Assignment3/assignment3.ipynb#W6sZmlsZQ%3D%3D?line=49'>50</a>\u001b[0m \u001b[39m# Print the overall output shape\u001b[39;00m\n\u001b[0;32m     <a href='vscode-notebook-cell:/c%3A/Users/irene/OneDrive/Bureaublad/Master_jaar_2/DL/Assignment3/assignment3.ipynb#W6sZmlsZQ%3D%3D?line=50'>51</a>\u001b[0m \u001b[39mprint\u001b[39m(all_outputs\u001b[39m.\u001b[39mshape)\n",
      "\u001b[1;32mc:\\Users\\irene\\OneDrive\\Bureaublad\\Master_jaar_2\\DL\\Assignment3\\assignment3.ipynb Cell 7\u001b[0m line \u001b[0;36m3\n\u001b[0;32m     <a href='vscode-notebook-cell:/c%3A/Users/irene/OneDrive/Bureaublad/Master_jaar_2/DL/Assignment3/assignment3.ipynb#W6sZmlsZQ%3D%3D?line=32'>33</a>\u001b[0m softmax \u001b[39m=\u001b[39m nn\u001b[39m.\u001b[39mSoftmax(dim\u001b[39m=\u001b[39m\u001b[39m1\u001b[39m)\n\u001b[0;32m     <a href='vscode-notebook-cell:/c%3A/Users/irene/OneDrive/Bureaublad/Master_jaar_2/DL/Assignment3/assignment3.ipynb#W6sZmlsZQ%3D%3D?line=33'>34</a>\u001b[0m predictions \u001b[39m=\u001b[39m softmax(outputs_tensor)\n\u001b[1;32m---> <a href='vscode-notebook-cell:/c%3A/Users/irene/OneDrive/Bureaublad/Master_jaar_2/DL/Assignment3/assignment3.ipynb#W6sZmlsZQ%3D%3D?line=34'>35</a>\u001b[0m target_tensor \u001b[39m=\u001b[39m torch\u001b[39m.\u001b[39;49mstack(target_batches)\u001b[39m.\u001b[39;49msqueeze(dim\u001b[39m=\u001b[39;49m\u001b[39m2\u001b[39;49m)\u001b[39m.\u001b[39mlong()\n\u001b[0;32m     <a href='vscode-notebook-cell:/c%3A/Users/irene/OneDrive/Bureaublad/Master_jaar_2/DL/Assignment3/assignment3.ipynb#W6sZmlsZQ%3D%3D?line=35'>36</a>\u001b[0m loss \u001b[39m=\u001b[39m F\u001b[39m.\u001b[39mcross_entropy(predictions, target_tensor)\n\u001b[0;32m     <a href='vscode-notebook-cell:/c%3A/Users/irene/OneDrive/Bureaublad/Master_jaar_2/DL/Assignment3/assignment3.ipynb#W6sZmlsZQ%3D%3D?line=36'>37</a>\u001b[0m \u001b[39mprint\u001b[39m(\u001b[39m\"\u001b[39m\u001b[39mLoss:\u001b[39m\u001b[39m\"\u001b[39m, loss\u001b[39m.\u001b[39mitem())\n",
      "\u001b[1;31mIndexError\u001b[0m: Dimension out of range (expected to be in range of [-2, 1], but got 2)"
     ]
    }
   ],
   "source": [
    "#WITH LOSS\n",
    "def simple_seq2seq_model(vocab_size, emb_dim, hidden_dim, num_classes, input_batches, target_batches):\n",
    "\n",
    "    outputs = []\n",
    "\n",
    "    for input_tensor in input_batches:\n",
    "         # 1) Embedding layer\n",
    "        embedding = nn.Embedding(vocab_size, emb_dim)\n",
    "        embedded = embedding(input_tensor)\n",
    "\n",
    "        # 2) Linear layer applied to each token\n",
    "        linear1 = nn.Linear(emb_dim, hidden_dim)\n",
    "        linear_output = linear1(embedded)\n",
    "\n",
    "        # 3) ReLU activation\n",
    "        relu = nn.ReLU()\n",
    "        relu_output = relu(linear_output)\n",
    "\n",
    "        # 4) Global max pool along the time dimension\n",
    "        global_max_pool = nn.AdaptiveMaxPool1d(1)\n",
    "        pooled_output = global_max_pool(relu_output.permute(0, 2, 1))\n",
    "\n",
    "        # 5) Linear layer\n",
    "        linear2 = nn.Linear(hidden_dim, num_classes)\n",
    "        linear_output_final = linear2(pooled_output.squeeze(dim=2))\n",
    "\n",
    "        outputs.append(linear_output_final)\n",
    "\n",
    "    # Stack outputs into a single tensor\n",
    "    outputs_tensor = torch.stack(outputs)\n",
    "\n",
    "    # Sigmoid activation and BCE loss\n",
    "    softmax = nn.Softmax(dim=1)\n",
    "    predictions = softmax(outputs_tensor)\n",
    "    target_tensor = torch.stack(target_batches).long()\n",
    "    loss = F.cross_entropy(predictions, target_tensor)\n",
    "    print(\"Loss:\", loss.item())\n",
    "\n",
    "    return outputs_tensor\n",
    "\n",
    "# Example usage\n",
    "vocab_size = len(w2i)\n",
    "emb_dim = 300       \n",
    "hidden_dim = 300   \n",
    "num_classes = 1  # because binary classification\n",
    "\n",
    "# Forward pass for all batches\n",
    "all_outputs = simple_seq2seq_model(vocab_size, emb_dim, hidden_dim, num_classes, all_padded_batches_x, all_tensor_batches_y)\n",
    "\n",
    "# Print the overall output shape\n",
    "print(all_outputs.shape)\n",
    "\n"
   ]
  },
  {
   "cell_type": "markdown",
   "metadata": {},
   "source": [
    "Vraag 3"
   ]
  },
  {
   "cell_type": "code",
   "execution_count": 29,
   "metadata": {},
   "outputs": [],
   "source": [
    "class SimpleSeq2SeqModel(nn.Module):\n",
    "    def __init__(self, vocab_size, emb_dim, hidden_dim, num_classes):\n",
    "        super(SimpleSeq2SeqModel, self).__init__()\n",
    "\n",
    "        # 1) Embedding layer\n",
    "        self.embedding = nn.Embedding(vocab_size, emb_dim)\n",
    "\n",
    "        # 2) Linear layer applied to each token\n",
    "        self.linear1 = nn.Linear(emb_dim, hidden_dim)\n",
    "\n",
    "        # 3) ReLU activation\n",
    "        self.relu = nn.ReLU()\n",
    "\n",
    "        # 4) Global max pool along the time dimension\n",
    "        self.global_max_pool = nn.AdaptiveMaxPool1d(1)\n",
    "\n",
    "        # 5) Linear layer\n",
    "        self.linear2 = nn.Linear(hidden_dim, num_classes)\n",
    "\n",
    "    def forward(self, x):\n",
    "        # Input x: (batch, time)\n",
    "\n",
    "        # 1) Embedding layer\n",
    "        embedded = self.embedding(x)\n",
    "\n",
    "        # 2) Linear layer applied to each token\n",
    "        linear_output = self.linear1(embedded)\n",
    "\n",
    "        # 3) ReLU activation\n",
    "        relu_output = self.relu(linear_output)\n",
    "\n",
    "        # 4) Global max pool along the time dimension\n",
    "        pooled_output = self.global_max_pool(relu_output.permute(0, 2, 1))\n",
    "\n",
    "        # 5) Linear layer\n",
    "        linear_output_final = self.linear2(pooled_output.squeeze(dim=2))\n",
    "\n",
    "        return linear_output_final"
   ]
  },
  {
   "cell_type": "code",
   "execution_count": 31,
   "metadata": {},
   "outputs": [
    {
     "ename": "TypeError",
     "evalue": "__init__() takes 5 positional arguments but 7 were given",
     "output_type": "error",
     "traceback": [
      "\u001b[1;31m---------------------------------------------------------------------------\u001b[0m",
      "\u001b[1;31mTypeError\u001b[0m                                 Traceback (most recent call last)",
      "\u001b[1;32mc:\\Users\\irene\\OneDrive\\Bureaublad\\Master_jaar_2\\DL\\Assignment3\\assignment3.ipynb Cell 10\u001b[0m line \u001b[0;36m1\n\u001b[0;32m      <a href='vscode-notebook-cell:/c%3A/Users/irene/OneDrive/Bureaublad/Master_jaar_2/DL/Assignment3/assignment3.ipynb#X45sZmlsZQ%3D%3D?line=7'>8</a>\u001b[0m num_epochs \u001b[39m=\u001b[39m \u001b[39m10\u001b[39m\n\u001b[0;32m     <a href='vscode-notebook-cell:/c%3A/Users/irene/OneDrive/Bureaublad/Master_jaar_2/DL/Assignment3/assignment3.ipynb#X45sZmlsZQ%3D%3D?line=9'>10</a>\u001b[0m \u001b[39m# Initialize the model\u001b[39;00m\n\u001b[1;32m---> <a href='vscode-notebook-cell:/c%3A/Users/irene/OneDrive/Bureaublad/Master_jaar_2/DL/Assignment3/assignment3.ipynb#X45sZmlsZQ%3D%3D?line=10'>11</a>\u001b[0m model \u001b[39m=\u001b[39m SimpleSeq2SeqModel(vocab_size, emb_dim, hidden_dim, num_classes, all_padded_batches_x, all_tensor_batches_y)\n\u001b[0;32m     <a href='vscode-notebook-cell:/c%3A/Users/irene/OneDrive/Bureaublad/Master_jaar_2/DL/Assignment3/assignment3.ipynb#X45sZmlsZQ%3D%3D?line=12'>13</a>\u001b[0m \u001b[39m# Define optimizer and loss function\u001b[39;00m\n\u001b[0;32m     <a href='vscode-notebook-cell:/c%3A/Users/irene/OneDrive/Bureaublad/Master_jaar_2/DL/Assignment3/assignment3.ipynb#X45sZmlsZQ%3D%3D?line=13'>14</a>\u001b[0m optimizer \u001b[39m=\u001b[39m optim\u001b[39m.\u001b[39mAdam(model\u001b[39m.\u001b[39mparameters(), lr\u001b[39m=\u001b[39mlearning_rate)\n",
      "\u001b[1;31mTypeError\u001b[0m: __init__() takes 5 positional arguments but 7 were given"
     ]
    }
   ],
   "source": [
    "# Define your hyperparameters\n",
    "vocab_size = len(w2i)\n",
    "emb_dim = 300\n",
    "hidden_dim = 300\n",
    "num_classes = 1\n",
    "learning_rate = 0.001\n",
    "num_epochs = 10\n",
    "batch_size = 32\n",
    "\n",
    "# Create an instance of your model\n",
    "model = SimpleSeq2SeqModel(vocab_size, emb_dim, hidden_dim, num_classes)\n",
    "\n",
    "# Define your optimizer and loss function\n",
    "optimizer = optim.Adam(model.parameters(), lr=learning_rate)\n",
    "sigmoid = torch.nn.Sigmoid()\n",
    "\n",
    "# Create DataLoader for training batches\n",
    "train_dataset = [(x, y) for x, y in zip(all_padded_batches_x, all_tensor_batches_y)]\n",
    "train_data_loader = DataLoader(train_dataset, batch_size=batch_size, shuffle=True)\n",
    "\n",
    "# Training loop\n",
    "for epoch in range(num_epochs):\n",
    "    total_loss = 0.0\n",
    "\n",
    "    # Iterate over batches from the data loader\n",
    "    for input_batch, target_batch in train_data_loader:\n",
    "        # Zero the gradients\n",
    "        optimizer.zero_grad()\n",
    "\n",
    "        # Forward pass\n",
    "        output = model(input_batch)\n",
    "\n",
    "        # Apply sigmoid activation\n",
    "        predictions = sigmoid(output)\n",
    "\n",
    "        # Calculate BCE loss\n",
    "        target_tensor = target_batch.unsqueeze(1).float()\n",
    "        loss = F.binary_cross_entropy(predictions, target_tensor)\n",
    "\n",
    "        # Backward pass and optimization\n",
    "        loss.backward()\n",
    "        optimizer.step()\n",
    "\n",
    "        # Accumulate the total loss for monitoring\n",
    "        total_loss += loss.item()\n",
    "\n",
    "    # Print average loss for the epoch\n",
    "    average_loss = total_loss / len(train_data_loader)\n",
    "    print(f'Epoch [{epoch+1}/{num_epochs}], Loss: {average_loss:.4f}')\n",
    "\n"
   ]
  }
 ],
 "metadata": {
  "kernelspec": {
   "display_name": "SIC",
   "language": "python",
   "name": "python3"
  },
  "language_info": {
   "codemirror_mode": {
    "name": "ipython",
    "version": 3
   },
   "file_extension": ".py",
   "mimetype": "text/x-python",
   "name": "python",
   "nbconvert_exporter": "python",
   "pygments_lexer": "ipython3",
   "version": "3.9.18"
  }
 },
 "nbformat": 4,
 "nbformat_minor": 2
}
